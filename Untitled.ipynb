{
 "cells": [
  {
   "cell_type": "code",
   "execution_count": 116,
   "metadata": {},
   "outputs": [],
   "source": [
    "import xlwings as xw\n",
    "import pandas as pd\n",
    "from openpyxl import load_workbook\n",
    "\n",
    "# wb = xw.Book('Справка о лесных пожарах (на дату)(1).xlsx') # Открываем книгу\n",
    "# data_excel = wb.sheets['Отчет'] # Читаем лист Данные\n",
    "# print(data_pd)"
   ]
  },
  {
   "cell_type": "markdown",
   "metadata": {},
   "source": [
    "# Версия №2"
   ]
  },
  {
   "cell_type": "code",
   "execution_count": 117,
   "metadata": {},
   "outputs": [],
   "source": [
    "# Задаем имена файлов\n",
    "file_data = 'Справка о лесных пожарах (на дату)(1).xlsx'\n",
    "file_result = 'Оперативная информация по ЛП 19.05.20  на 11-00(мск) .xlsx'"
   ]
  },
  {
   "cell_type": "code",
   "execution_count": 118,
   "metadata": {},
   "outputs": [],
   "source": [
    "# Загружаем файл\n",
    "xl_data = pd.ExcelFile(file_data)\n",
    "xl_result = pd.ExcelFile(file_result)"
   ]
  },
  {
   "cell_type": "code",
   "execution_count": 119,
   "metadata": {},
   "outputs": [
    {
     "name": "stdout",
     "output_type": "stream",
     "text": [
      "['Отчет', 'Описание']\n"
     ]
    }
   ],
   "source": [
    "# Выводим имена листов\n",
    "print(xl_data.sheet_names)"
   ]
  },
  {
   "cell_type": "code",
   "execution_count": 120,
   "metadata": {},
   "outputs": [
    {
     "name": "stdout",
     "output_type": "stream",
     "text": [
      "['ВСЕГО', 'Лист2', 'Лист3', 'Лист4', 'Лист5', 'Лист6']\n"
     ]
    }
   ],
   "source": [
    "# Выводим имена листов\n",
    "print(xl_result.sheet_names)"
   ]
  },
  {
   "cell_type": "markdown",
   "metadata": {},
   "source": [
    "### Смотрим количество строк. Оно нам понадобится, так как в исходном файле есть две таблицы, будем считывать каждую по отдельности (т.е. в разные датафреймы)"
   ]
  },
  {
   "cell_type": "code",
   "execution_count": 121,
   "metadata": {},
   "outputs": [
    {
     "data": {
      "text/plain": [
       "38"
      ]
     },
     "execution_count": 121,
     "metadata": {},
     "output_type": "execute_result"
    }
   ],
   "source": [
    "nrows = xl_data.book.sheet_by_index(0).nrows\n",
    "nrows"
   ]
  },
  {
   "cell_type": "markdown",
   "metadata": {},
   "source": [
    "### Здесь, skipfooter - сколько строк пропустить снизу, skiprows - сколько строк пропустить сверху. Так как этот файл не будем воспроизводить в excel, можем отредактировать его для удобства, а именно, убрать лишние NaN, чтобы было проще анализировать и смотреть"
   ]
  },
  {
   "cell_type": "code",
   "execution_count": 122,
   "metadata": {},
   "outputs": [],
   "source": [
    "df_data = pd.read_excel(xl_data, skiprows=5)\n",
    "df1_data = xl_data.parse(0, skipfooter= nrows-(17+1), skiprows=5).dropna(axis=\"index\", how='all')\n",
    "df2_data = xl_data.parse(0, skipfooter= nrows-(30+1), skiprows=20).dropna(axis=\"index\", how='all')"
   ]
  },
  {
   "cell_type": "markdown",
   "metadata": {},
   "source": [
    "### Первая таблица"
   ]
  },
  {
   "cell_type": "code",
   "execution_count": 123,
   "metadata": {},
   "outputs": [
    {
     "data": {
      "text/html": [
       "<div>\n",
       "<style scoped>\n",
       "    .dataframe tbody tr th:only-of-type {\n",
       "        vertical-align: middle;\n",
       "    }\n",
       "\n",
       "    .dataframe tbody tr th {\n",
       "        vertical-align: top;\n",
       "    }\n",
       "\n",
       "    .dataframe thead th {\n",
       "        text-align: right;\n",
       "    }\n",
       "</style>\n",
       "<table border=\"1\" class=\"dataframe\">\n",
       "  <thead>\n",
       "    <tr style=\"text-align: right;\">\n",
       "      <th></th>\n",
       "      <th>№ пож. зона</th>\n",
       "      <th>Дата и вр. обнаружения</th>\n",
       "      <th>Наименование</th>\n",
       "      <th>Unnamed: 3</th>\n",
       "      <th>Широта</th>\n",
       "      <th>Долгота</th>\n",
       "      <th>Лесофон-до-держатель</th>\n",
       "      <th>Квартал</th>\n",
       "      <th>Площ. обнар. лес/нелес</th>\n",
       "      <th>Вид по-жара</th>\n",
       "      <th>...</th>\n",
       "      <th>Требуется на пожар</th>\n",
       "      <th>Unnamed: 27</th>\n",
       "      <th>Unnamed: 28</th>\n",
       "      <th>Unnamed: 29</th>\n",
       "      <th>Unnamed: 30</th>\n",
       "      <th>Unnamed: 31</th>\n",
       "      <th>Unnamed: 32</th>\n",
       "      <th>Unnamed: 33</th>\n",
       "      <th>Unnamed: 34</th>\n",
       "      <th>Unnamed: 35</th>\n",
       "    </tr>\n",
       "  </thead>\n",
       "  <tbody>\n",
       "    <tr>\n",
       "      <th>0</th>\n",
       "      <td>NaN</td>\n",
       "      <td>NaN</td>\n",
       "      <td>Лес-во</td>\n",
       "      <td>Уч. лес-во</td>\n",
       "      <td>NaN</td>\n",
       "      <td>NaN</td>\n",
       "      <td>NaN</td>\n",
       "      <td>NaN</td>\n",
       "      <td>NaN</td>\n",
       "      <td>NaN</td>\n",
       "      <td>...</td>\n",
       "      <td>АПС</td>\n",
       "      <td>ЛО</td>\n",
       "      <td>МЧС</td>\n",
       "      <td>К</td>\n",
       "      <td>Пр.</td>\n",
       "      <td>Б</td>\n",
       "      <td>Т</td>\n",
       "      <td>А</td>\n",
       "      <td>ПМ</td>\n",
       "      <td>Ар.</td>\n",
       "    </tr>\n",
       "    <tr>\n",
       "      <th>1</th>\n",
       "      <td>1</td>\n",
       "      <td>2</td>\n",
       "      <td>3</td>\n",
       "      <td>4</td>\n",
       "      <td>5</td>\n",
       "      <td>6</td>\n",
       "      <td>7</td>\n",
       "      <td>8.0</td>\n",
       "      <td>9</td>\n",
       "      <td>10</td>\n",
       "      <td>...</td>\n",
       "      <td>27</td>\n",
       "      <td>28</td>\n",
       "      <td>29</td>\n",
       "      <td>30</td>\n",
       "      <td>31</td>\n",
       "      <td>32</td>\n",
       "      <td>33</td>\n",
       "      <td>34</td>\n",
       "      <td>35</td>\n",
       "      <td>36</td>\n",
       "    </tr>\n",
       "    <tr>\n",
       "      <th>2</th>\n",
       "      <td>Верхнекетский район</td>\n",
       "      <td>NaN</td>\n",
       "      <td>NaN</td>\n",
       "      <td>NaN</td>\n",
       "      <td>NaN</td>\n",
       "      <td>NaN</td>\n",
       "      <td>NaN</td>\n",
       "      <td>NaN</td>\n",
       "      <td>NaN</td>\n",
       "      <td>NaN</td>\n",
       "      <td>...</td>\n",
       "      <td>NaN</td>\n",
       "      <td>NaN</td>\n",
       "      <td>NaN</td>\n",
       "      <td>NaN</td>\n",
       "      <td>NaN</td>\n",
       "      <td>NaN</td>\n",
       "      <td>NaN</td>\n",
       "      <td>NaN</td>\n",
       "      <td>NaN</td>\n",
       "      <td>NaN</td>\n",
       "    </tr>\n",
       "    <tr>\n",
       "      <th>3</th>\n",
       "      <td>2  н</td>\n",
       "      <td>18.05 22:00</td>\n",
       "      <td>Верхнекетское</td>\n",
       "      <td>Катайгинское</td>\n",
       "      <td>58°45'00\"</td>\n",
       "      <td>087°59'00\"</td>\n",
       "      <td>лес. ф.</td>\n",
       "      <td>162.0</td>\n",
       "      <td>1,7/0</td>\n",
       "      <td>Н</td>\n",
       "      <td>...</td>\n",
       "      <td>0</td>\n",
       "      <td>0</td>\n",
       "      <td>0</td>\n",
       "      <td>0</td>\n",
       "      <td>0</td>\n",
       "      <td>0</td>\n",
       "      <td>0</td>\n",
       "      <td>0</td>\n",
       "      <td>0</td>\n",
       "      <td>0</td>\n",
       "    </tr>\n",
       "    <tr>\n",
       "      <th>5</th>\n",
       "      <td>Итого по лес-ву:</td>\n",
       "      <td>NaN</td>\n",
       "      <td>1</td>\n",
       "      <td>NaN</td>\n",
       "      <td>NaN</td>\n",
       "      <td>NaN</td>\n",
       "      <td>NaN</td>\n",
       "      <td>NaN</td>\n",
       "      <td>NaN</td>\n",
       "      <td>NaN</td>\n",
       "      <td>...</td>\n",
       "      <td>0</td>\n",
       "      <td>0</td>\n",
       "      <td>0</td>\n",
       "      <td>0</td>\n",
       "      <td>0</td>\n",
       "      <td>0</td>\n",
       "      <td>0</td>\n",
       "      <td>0</td>\n",
       "      <td>0</td>\n",
       "      <td>0</td>\n",
       "    </tr>\n",
       "    <tr>\n",
       "      <th>7</th>\n",
       "      <td>Итого по району:</td>\n",
       "      <td>NaN</td>\n",
       "      <td>1</td>\n",
       "      <td>NaN</td>\n",
       "      <td>NaN</td>\n",
       "      <td>NaN</td>\n",
       "      <td>NaN</td>\n",
       "      <td>NaN</td>\n",
       "      <td>NaN</td>\n",
       "      <td>NaN</td>\n",
       "      <td>...</td>\n",
       "      <td>0</td>\n",
       "      <td>0</td>\n",
       "      <td>0</td>\n",
       "      <td>0</td>\n",
       "      <td>0</td>\n",
       "      <td>0</td>\n",
       "      <td>0</td>\n",
       "      <td>0</td>\n",
       "      <td>0</td>\n",
       "      <td>0</td>\n",
       "    </tr>\n",
       "    <tr>\n",
       "      <th>10</th>\n",
       "      <td>ИТОГО:</td>\n",
       "      <td>NaN</td>\n",
       "      <td>1</td>\n",
       "      <td>NaN</td>\n",
       "      <td>NaN</td>\n",
       "      <td>NaN</td>\n",
       "      <td>NaN</td>\n",
       "      <td>NaN</td>\n",
       "      <td>NaN</td>\n",
       "      <td>NaN</td>\n",
       "      <td>...</td>\n",
       "      <td>0</td>\n",
       "      <td>0</td>\n",
       "      <td>0</td>\n",
       "      <td>0</td>\n",
       "      <td>0</td>\n",
       "      <td>0</td>\n",
       "      <td>0</td>\n",
       "      <td>0</td>\n",
       "      <td>0</td>\n",
       "      <td>0</td>\n",
       "    </tr>\n",
       "  </tbody>\n",
       "</table>\n",
       "<p>7 rows × 36 columns</p>\n",
       "</div>"
      ],
      "text/plain": [
       "            № пож. зона Дата и вр. обнаружения   Наименование    Unnamed: 3  \\\n",
       "0                   NaN                    NaN         Лес-во    Уч. лес-во   \n",
       "1                     1                      2              3             4   \n",
       "2   Верхнекетский район                    NaN            NaN           NaN   \n",
       "3                  2  н            18.05 22:00  Верхнекетское  Катайгинское   \n",
       "5      Итого по лес-ву:                    NaN              1           NaN   \n",
       "7      Итого по району:                    NaN              1           NaN   \n",
       "10               ИТОГО:                    NaN              1           NaN   \n",
       "\n",
       "       Широта     Долгота Лесофон-до-держатель  Квартал  \\\n",
       "0         NaN         NaN                  NaN      NaN   \n",
       "1           5           6                    7      8.0   \n",
       "2         NaN         NaN                  NaN      NaN   \n",
       "3   58°45'00\"  087°59'00\"              лес. ф.    162.0   \n",
       "5         NaN         NaN                  NaN      NaN   \n",
       "7         NaN         NaN                  NaN      NaN   \n",
       "10        NaN         NaN                  NaN      NaN   \n",
       "\n",
       "   Площ. обнар. лес/нелес Вид по-жара     ...     Требуется на пожар  \\\n",
       "0                     NaN         NaN     ...                    АПС   \n",
       "1                       9          10     ...                     27   \n",
       "2                     NaN         NaN     ...                    NaN   \n",
       "3                   1,7/0           Н     ...                      0   \n",
       "5                     NaN         NaN     ...                      0   \n",
       "7                     NaN         NaN     ...                      0   \n",
       "10                    NaN         NaN     ...                      0   \n",
       "\n",
       "   Unnamed: 27 Unnamed: 28 Unnamed: 29 Unnamed: 30 Unnamed: 31 Unnamed: 32  \\\n",
       "0           ЛО         МЧС           К         Пр.           Б           Т   \n",
       "1           28          29          30          31          32          33   \n",
       "2          NaN         NaN         NaN         NaN         NaN         NaN   \n",
       "3            0           0           0           0           0           0   \n",
       "5            0           0           0           0           0           0   \n",
       "7            0           0           0           0           0           0   \n",
       "10           0           0           0           0           0           0   \n",
       "\n",
       "   Unnamed: 33 Unnamed: 34 Unnamed: 35  \n",
       "0            А          ПМ         Ар.  \n",
       "1           34          35          36  \n",
       "2          NaN         NaN         NaN  \n",
       "3            0           0           0  \n",
       "5            0           0           0  \n",
       "7            0           0           0  \n",
       "10           0           0           0  \n",
       "\n",
       "[7 rows x 36 columns]"
      ]
     },
     "execution_count": 123,
     "metadata": {},
     "output_type": "execute_result"
    }
   ],
   "source": [
    "df1_data"
   ]
  },
  {
   "cell_type": "markdown",
   "metadata": {},
   "source": [
    "### АПС и ПМ находятся под номерами 17 и 25. Считываем их и сохраняем в переменные"
   ]
  },
  {
   "cell_type": "code",
   "execution_count": 124,
   "metadata": {},
   "outputs": [
    {
     "data": {
      "text/plain": [
       "№ пож. зона                1\n",
       "Дата и вр. обнаружения     2\n",
       "Наименование               3\n",
       "Unnamed: 3                 4\n",
       "Широта                     5\n",
       "Долгота                    6\n",
       "Лесофон-до-держатель       7\n",
       "Квартал                    8\n",
       "Площ. обнар. лес/нелес     9\n",
       "Вид по-жара               10\n",
       "Состо-яние                11\n",
       "Площадь на конец дня      12\n",
       "Unnamed: 12               13\n",
       "Unnamed: 13               14\n",
       "Unnamed: 14               15\n",
       "Причина пожара            16\n",
       "Работает на пожаре        17\n",
       "Unnamed: 17               18\n",
       "Unnamed: 18               19\n",
       "Unnamed: 19               20\n",
       "Unnamed: 20               21\n",
       "Unnamed: 21               22\n",
       "Unnamed: 22               23\n",
       "Unnamed: 23               24\n",
       "Unnamed: 24               25\n",
       "Unnamed: 25               26\n",
       "Требуется на пожар        27\n",
       "Unnamed: 27               28\n",
       "Unnamed: 28               29\n",
       "Unnamed: 29               30\n",
       "Unnamed: 30               31\n",
       "Unnamed: 31               32\n",
       "Unnamed: 32               33\n",
       "Unnamed: 33               34\n",
       "Unnamed: 34               35\n",
       "Unnamed: 35               36\n",
       "Name: 1, dtype: object"
      ]
     },
     "execution_count": 124,
     "metadata": {},
     "output_type": "execute_result"
    }
   ],
   "source": [
    "df1_data.iloc[1]"
   ]
  },
  {
   "cell_type": "code",
   "execution_count": 125,
   "metadata": {},
   "outputs": [],
   "source": [
    "APS = df1_data.loc[df1_data[\"№ пож. зона\"] == \"ИТОГО:\", \n",
    "         \"Работает на пожаре\"].iloc[0]\n",
    "PM = df1_data.loc[df1_data[\"№ пож. зона\"] == \"ИТОГО:\", \n",
    "         \"Unnamed: 24\"].iloc[0]"
   ]
  },
  {
   "cell_type": "code",
   "execution_count": 126,
   "metadata": {},
   "outputs": [
    {
     "data": {
      "text/plain": [
       "(3, 1)"
      ]
     },
     "execution_count": 126,
     "metadata": {},
     "output_type": "execute_result"
    }
   ],
   "source": [
    "APS, PM"
   ]
  },
  {
   "cell_type": "markdown",
   "metadata": {},
   "source": [
    "### Вторая таблица"
   ]
  },
  {
   "cell_type": "code",
   "execution_count": 127,
   "metadata": {
    "scrolled": true
   },
   "outputs": [
    {
     "data": {
      "text/html": [
       "<div>\n",
       "<style scoped>\n",
       "    .dataframe tbody tr th:only-of-type {\n",
       "        vertical-align: middle;\n",
       "    }\n",
       "\n",
       "    .dataframe tbody tr th {\n",
       "        vertical-align: top;\n",
       "    }\n",
       "\n",
       "    .dataframe thead th {\n",
       "        text-align: right;\n",
       "    }\n",
       "</style>\n",
       "<table border=\"1\" class=\"dataframe\">\n",
       "  <thead>\n",
       "    <tr style=\"text-align: right;\">\n",
       "      <th></th>\n",
       "      <th>Ведомство</th>\n",
       "      <th>Unnamed: 1</th>\n",
       "      <th>Unnamed: 2</th>\n",
       "      <th>Unnamed: 3</th>\n",
       "      <th>Обнаружено</th>\n",
       "      <th>Unnamed: 5</th>\n",
       "      <th>Unnamed: 6</th>\n",
       "      <th>Unnamed: 7</th>\n",
       "      <th>Действует (ранее)</th>\n",
       "      <th>Unnamed: 9</th>\n",
       "      <th>...</th>\n",
       "      <th>Unnamed: 26</th>\n",
       "      <th>Unnamed: 27</th>\n",
       "      <th>Нарастающим итогом (лик)</th>\n",
       "      <th>Unnamed: 29</th>\n",
       "      <th>Unnamed: 30</th>\n",
       "      <th>Unnamed: 31</th>\n",
       "      <th>Unnamed: 32</th>\n",
       "      <th>Unnamed: 33</th>\n",
       "      <th>Unnamed: 34</th>\n",
       "      <th>Unnamed: 35</th>\n",
       "    </tr>\n",
       "  </thead>\n",
       "  <tbody>\n",
       "    <tr>\n",
       "      <th>0</th>\n",
       "      <td>NaN</td>\n",
       "      <td>NaN</td>\n",
       "      <td>NaN</td>\n",
       "      <td>NaN</td>\n",
       "      <td>пожаров</td>\n",
       "      <td>NaN</td>\n",
       "      <td>площадь лесная / нелесная</td>\n",
       "      <td>NaN</td>\n",
       "      <td>пожаров</td>\n",
       "      <td>NaN</td>\n",
       "      <td>...</td>\n",
       "      <td>NaN</td>\n",
       "      <td>NaN</td>\n",
       "      <td>пожаров</td>\n",
       "      <td>NaN</td>\n",
       "      <td>NaN</td>\n",
       "      <td>площадь лесная / нелесная</td>\n",
       "      <td>NaN</td>\n",
       "      <td>NaN</td>\n",
       "      <td>NaN</td>\n",
       "      <td>NaN</td>\n",
       "    </tr>\n",
       "    <tr>\n",
       "      <th>1</th>\n",
       "      <td>Земли лесного фонда</td>\n",
       "      <td>NaN</td>\n",
       "      <td>NaN</td>\n",
       "      <td>NaN</td>\n",
       "      <td>0</td>\n",
       "      <td>NaN</td>\n",
       "      <td>0/0</td>\n",
       "      <td>NaN</td>\n",
       "      <td>0</td>\n",
       "      <td>NaN</td>\n",
       "      <td>...</td>\n",
       "      <td>NaN</td>\n",
       "      <td>NaN</td>\n",
       "      <td>88</td>\n",
       "      <td>NaN</td>\n",
       "      <td>NaN</td>\n",
       "      <td>1201,2/6,49</td>\n",
       "      <td>NaN</td>\n",
       "      <td>NaN</td>\n",
       "      <td>NaN</td>\n",
       "      <td>NaN</td>\n",
       "    </tr>\n",
       "    <tr>\n",
       "      <th>2</th>\n",
       "      <td>в том числе в зоне АСС</td>\n",
       "      <td>NaN</td>\n",
       "      <td>NaN</td>\n",
       "      <td>NaN</td>\n",
       "      <td>0</td>\n",
       "      <td>NaN</td>\n",
       "      <td>0/0</td>\n",
       "      <td>NaN</td>\n",
       "      <td>0</td>\n",
       "      <td>NaN</td>\n",
       "      <td>...</td>\n",
       "      <td>NaN</td>\n",
       "      <td>NaN</td>\n",
       "      <td>1</td>\n",
       "      <td>NaN</td>\n",
       "      <td>NaN</td>\n",
       "      <td>4,7/0</td>\n",
       "      <td>NaN</td>\n",
       "      <td>NaN</td>\n",
       "      <td>NaN</td>\n",
       "      <td>NaN</td>\n",
       "    </tr>\n",
       "    <tr>\n",
       "      <th>3</th>\n",
       "      <td>в том числе в зоне контроля</td>\n",
       "      <td>NaN</td>\n",
       "      <td>NaN</td>\n",
       "      <td>NaN</td>\n",
       "      <td>0</td>\n",
       "      <td>NaN</td>\n",
       "      <td>0/0</td>\n",
       "      <td>NaN</td>\n",
       "      <td>0</td>\n",
       "      <td>NaN</td>\n",
       "      <td>...</td>\n",
       "      <td>NaN</td>\n",
       "      <td>NaN</td>\n",
       "      <td>0</td>\n",
       "      <td>NaN</td>\n",
       "      <td>NaN</td>\n",
       "      <td>0/0</td>\n",
       "      <td>NaN</td>\n",
       "      <td>NaN</td>\n",
       "      <td>NaN</td>\n",
       "      <td>NaN</td>\n",
       "    </tr>\n",
       "    <tr>\n",
       "      <th>4</th>\n",
       "      <td>земли лесного фонда без зоны контроля</td>\n",
       "      <td>NaN</td>\n",
       "      <td>NaN</td>\n",
       "      <td>NaN</td>\n",
       "      <td>0</td>\n",
       "      <td>NaN</td>\n",
       "      <td>0/0</td>\n",
       "      <td>NaN</td>\n",
       "      <td>0</td>\n",
       "      <td>NaN</td>\n",
       "      <td>...</td>\n",
       "      <td>NaN</td>\n",
       "      <td>NaN</td>\n",
       "      <td>88</td>\n",
       "      <td>NaN</td>\n",
       "      <td>NaN</td>\n",
       "      <td>1201,2/6,49</td>\n",
       "      <td>NaN</td>\n",
       "      <td>NaN</td>\n",
       "      <td>NaN</td>\n",
       "      <td>NaN</td>\n",
       "    </tr>\n",
       "    <tr>\n",
       "      <th>5</th>\n",
       "      <td>Всего</td>\n",
       "      <td>NaN</td>\n",
       "      <td>NaN</td>\n",
       "      <td>NaN</td>\n",
       "      <td>0</td>\n",
       "      <td>NaN</td>\n",
       "      <td>0/0</td>\n",
       "      <td>NaN</td>\n",
       "      <td>0</td>\n",
       "      <td>NaN</td>\n",
       "      <td>...</td>\n",
       "      <td>NaN</td>\n",
       "      <td>NaN</td>\n",
       "      <td>88</td>\n",
       "      <td>NaN</td>\n",
       "      <td>NaN</td>\n",
       "      <td>1201,2/6,49</td>\n",
       "      <td>NaN</td>\n",
       "      <td>NaN</td>\n",
       "      <td>NaN</td>\n",
       "      <td>NaN</td>\n",
       "    </tr>\n",
       "    <tr>\n",
       "      <th>6</th>\n",
       "      <td>в том числе в зоне АСС</td>\n",
       "      <td>NaN</td>\n",
       "      <td>NaN</td>\n",
       "      <td>NaN</td>\n",
       "      <td>0</td>\n",
       "      <td>NaN</td>\n",
       "      <td>0/0</td>\n",
       "      <td>NaN</td>\n",
       "      <td>0</td>\n",
       "      <td>NaN</td>\n",
       "      <td>...</td>\n",
       "      <td>NaN</td>\n",
       "      <td>NaN</td>\n",
       "      <td>1</td>\n",
       "      <td>NaN</td>\n",
       "      <td>NaN</td>\n",
       "      <td>4,7/0</td>\n",
       "      <td>NaN</td>\n",
       "      <td>NaN</td>\n",
       "      <td>NaN</td>\n",
       "      <td>NaN</td>\n",
       "    </tr>\n",
       "    <tr>\n",
       "      <th>7</th>\n",
       "      <td>в том числе в зоне контроля</td>\n",
       "      <td>NaN</td>\n",
       "      <td>NaN</td>\n",
       "      <td>NaN</td>\n",
       "      <td>0</td>\n",
       "      <td>NaN</td>\n",
       "      <td>0/0</td>\n",
       "      <td>NaN</td>\n",
       "      <td>0</td>\n",
       "      <td>NaN</td>\n",
       "      <td>...</td>\n",
       "      <td>NaN</td>\n",
       "      <td>NaN</td>\n",
       "      <td>0</td>\n",
       "      <td>NaN</td>\n",
       "      <td>NaN</td>\n",
       "      <td>0/0</td>\n",
       "      <td>NaN</td>\n",
       "      <td>NaN</td>\n",
       "      <td>NaN</td>\n",
       "      <td>NaN</td>\n",
       "    </tr>\n",
       "    <tr>\n",
       "      <th>8</th>\n",
       "      <td>в том числе без зоны контроля</td>\n",
       "      <td>NaN</td>\n",
       "      <td>NaN</td>\n",
       "      <td>NaN</td>\n",
       "      <td>0</td>\n",
       "      <td>NaN</td>\n",
       "      <td>0/0</td>\n",
       "      <td>NaN</td>\n",
       "      <td>0</td>\n",
       "      <td>NaN</td>\n",
       "      <td>...</td>\n",
       "      <td>NaN</td>\n",
       "      <td>NaN</td>\n",
       "      <td>88</td>\n",
       "      <td>NaN</td>\n",
       "      <td>NaN</td>\n",
       "      <td>1201,2/6,49</td>\n",
       "      <td>NaN</td>\n",
       "      <td>NaN</td>\n",
       "      <td>NaN</td>\n",
       "      <td>NaN</td>\n",
       "    </tr>\n",
       "  </tbody>\n",
       "</table>\n",
       "<p>9 rows × 36 columns</p>\n",
       "</div>"
      ],
      "text/plain": [
       "                               Ведомство  Unnamed: 1  Unnamed: 2  Unnamed: 3  \\\n",
       "0                                    NaN         NaN         NaN         NaN   \n",
       "1                    Земли лесного фонда         NaN         NaN         NaN   \n",
       "2                 в том числе в зоне АСС         NaN         NaN         NaN   \n",
       "3            в том числе в зоне контроля         NaN         NaN         NaN   \n",
       "4  земли лесного фонда без зоны контроля         NaN         NaN         NaN   \n",
       "5                                  Всего         NaN         NaN         NaN   \n",
       "6                 в том числе в зоне АСС         NaN         NaN         NaN   \n",
       "7            в том числе в зоне контроля         NaN         NaN         NaN   \n",
       "8          в том числе без зоны контроля         NaN         NaN         NaN   \n",
       "\n",
       "  Обнаружено  Unnamed: 5                 Unnamed: 6  Unnamed: 7  \\\n",
       "0    пожаров         NaN  площадь лесная / нелесная         NaN   \n",
       "1          0         NaN                        0/0         NaN   \n",
       "2          0         NaN                        0/0         NaN   \n",
       "3          0         NaN                        0/0         NaN   \n",
       "4          0         NaN                        0/0         NaN   \n",
       "5          0         NaN                        0/0         NaN   \n",
       "6          0         NaN                        0/0         NaN   \n",
       "7          0         NaN                        0/0         NaN   \n",
       "8          0         NaN                        0/0         NaN   \n",
       "\n",
       "  Действует (ранее)  Unnamed: 9     ...      Unnamed: 26  Unnamed: 27  \\\n",
       "0           пожаров         NaN     ...              NaN          NaN   \n",
       "1                 0         NaN     ...              NaN          NaN   \n",
       "2                 0         NaN     ...              NaN          NaN   \n",
       "3                 0         NaN     ...              NaN          NaN   \n",
       "4                 0         NaN     ...              NaN          NaN   \n",
       "5                 0         NaN     ...              NaN          NaN   \n",
       "6                 0         NaN     ...              NaN          NaN   \n",
       "7                 0         NaN     ...              NaN          NaN   \n",
       "8                 0         NaN     ...              NaN          NaN   \n",
       "\n",
       "  Нарастающим итогом (лик) Unnamed: 29  Unnamed: 30  \\\n",
       "0                  пожаров         NaN          NaN   \n",
       "1                       88         NaN          NaN   \n",
       "2                        1         NaN          NaN   \n",
       "3                        0         NaN          NaN   \n",
       "4                       88         NaN          NaN   \n",
       "5                       88         NaN          NaN   \n",
       "6                        1         NaN          NaN   \n",
       "7                        0         NaN          NaN   \n",
       "8                       88         NaN          NaN   \n",
       "\n",
       "                 Unnamed: 31  Unnamed: 32  Unnamed: 33 Unnamed: 34  \\\n",
       "0  площадь лесная / нелесная          NaN          NaN         NaN   \n",
       "1                1201,2/6,49          NaN          NaN         NaN   \n",
       "2                      4,7/0          NaN          NaN         NaN   \n",
       "3                        0/0          NaN          NaN         NaN   \n",
       "4                1201,2/6,49          NaN          NaN         NaN   \n",
       "5                1201,2/6,49          NaN          NaN         NaN   \n",
       "6                      4,7/0          NaN          NaN         NaN   \n",
       "7                        0/0          NaN          NaN         NaN   \n",
       "8                1201,2/6,49          NaN          NaN         NaN   \n",
       "\n",
       "   Unnamed: 35  \n",
       "0          NaN  \n",
       "1          NaN  \n",
       "2          NaN  \n",
       "3          NaN  \n",
       "4          NaN  \n",
       "5          NaN  \n",
       "6          NaN  \n",
       "7          NaN  \n",
       "8          NaN  \n",
       "\n",
       "[9 rows x 36 columns]"
      ]
     },
     "execution_count": 127,
     "metadata": {},
     "output_type": "execute_result"
    }
   ],
   "source": [
    "df2_data"
   ]
  },
  {
   "cell_type": "markdown",
   "metadata": {},
   "source": [
    "### Вывели строку №5 чтобы посмотреть названия нужных нам колонок. Считываем необходимую информацию и сохраняем в переменные"
   ]
  },
  {
   "cell_type": "code",
   "execution_count": 128,
   "metadata": {
    "scrolled": true
   },
   "outputs": [
    {
     "data": {
      "text/plain": [
       "Ведомство                         Всего\n",
       "Unnamed: 1                          NaN\n",
       "Unnamed: 2                          NaN\n",
       "Unnamed: 3                          NaN\n",
       "Обнаружено                            0\n",
       "Unnamed: 5                          NaN\n",
       "Unnamed: 6                          0/0\n",
       "Unnamed: 7                          NaN\n",
       "Действует (ранее)                     0\n",
       "Unnamed: 9                          NaN\n",
       "Unnamed: 10                         0/0\n",
       "Unnamed: 11                         NaN\n",
       "Действует (всего)                     0\n",
       "Unnamed: 13                         0/0\n",
       "Unnamed: 14                         NaN\n",
       " Из них локализовано                  0\n",
       "Unnamed: 16                         NaN\n",
       "Unnamed: 17                         NaN\n",
       "Unnamed: 18                         0/0\n",
       "Unnamed: 19                         NaN\n",
       "Unnamed: 20                         NaN\n",
       "Ликвидировано (в день)                1\n",
       "Unnamed: 22                         NaN\n",
       "Unnamed: 23                         NaN\n",
       "Unnamed: 24                       1,8/0\n",
       "Unnamed: 25                         NaN\n",
       "Unnamed: 26                         NaN\n",
       "Unnamed: 27                         NaN\n",
       "Нарастающим итогом (лик)             88\n",
       "Unnamed: 29                         NaN\n",
       "Unnamed: 30                         NaN\n",
       "Unnamed: 31                 1201,2/6,49\n",
       "Unnamed: 32                         NaN\n",
       "Unnamed: 33                         NaN\n",
       "Unnamed: 34                         NaN\n",
       "Unnamed: 35                         NaN\n",
       "Name: 5, dtype: object"
      ]
     },
     "execution_count": 128,
     "metadata": {},
     "output_type": "execute_result"
    }
   ],
   "source": [
    "df2_data.iloc[5]"
   ]
  },
  {
   "cell_type": "code",
   "execution_count": 143,
   "metadata": {},
   "outputs": [],
   "source": [
    "liquidated = df2_data.loc[df2_data[\"Ведомство\"] == \"Всего\", \n",
    "         \"Ликвидировано (в день)\"].iloc[0]\n",
    "area = df2_data.loc[df2_data[\"Ведомство\"] == \"Всего\", \n",
    "         \"Unnamed: 24\"].iloc[0]"
   ]
  },
  {
   "cell_type": "code",
   "execution_count": 144,
   "metadata": {},
   "outputs": [
    {
     "data": {
      "text/plain": [
       "(1, '1,8/0')"
      ]
     },
     "execution_count": 144,
     "metadata": {},
     "output_type": "execute_result"
    }
   ],
   "source": [
    "liquidated, area"
   ]
  },
  {
   "cell_type": "markdown",
   "metadata": {},
   "source": [
    "### Значение area нужно отредактировать, берем только то значение которое лежит слева от знака \"/\""
   ]
  },
  {
   "cell_type": "code",
   "execution_count": 145,
   "metadata": {},
   "outputs": [],
   "source": [
    "area_edited = area.split(\"/\")[0]"
   ]
  },
  {
   "cell_type": "code",
   "execution_count": 146,
   "metadata": {},
   "outputs": [],
   "source": [
    "area_edited = area_edited.replace(',', '.')"
   ]
  },
  {
   "cell_type": "code",
   "execution_count": 147,
   "metadata": {},
   "outputs": [],
   "source": [
    "area_edited = float(area_edited)"
   ]
  },
  {
   "cell_type": "code",
   "execution_count": 148,
   "metadata": {
    "scrolled": false
   },
   "outputs": [
    {
     "data": {
      "text/plain": [
       "(1, 1.8)"
      ]
     },
     "execution_count": 148,
     "metadata": {},
     "output_type": "execute_result"
    }
   ],
   "source": [
    "liquidated, area_edited"
   ]
  },
  {
   "cell_type": "markdown",
   "metadata": {},
   "source": [
    "# Здесь надо либо обработать датафрейм и привести его к необходимому виду и сохранить. Либо, полученные значения напрямую вставить в соответствующие ячейки, не создавая датафрейма"
   ]
  },
  {
   "cell_type": "code",
   "execution_count": 149,
   "metadata": {},
   "outputs": [],
   "source": [
    "wb1 = load_workbook(file_data)\n",
    "wb2 = load_workbook(file_result)\n",
    "\n",
    "ws1 = wb1[\"Отчет\"]\n",
    "ws2 = wb2[\"ВСЕГО\"]\n",
    "\n",
    "cell_coord_liquidated = \"I6\"\n",
    "cell_coord_area = \"K6\"\n",
    "cell_coord_APS_PM = \"M6\"\n",
    "cell_coord4_PM = \"N6\"\n",
    "\n",
    "ws2[cell_coord_liquidated].value = liquidated\n",
    "ws2[cell_coord_area].value = area_edited\n",
    "ws2[cell_coord_APS_PM].value = APS + PM\n",
    "ws2[cell_coord4_PM].value = PM\n",
    "\n",
    "wb2.save(file_result)\n",
    "\n",
    "wb1.close()\n",
    "wb2.close()"
   ]
  },
  {
   "cell_type": "code",
   "execution_count": null,
   "metadata": {},
   "outputs": [],
   "source": []
  }
 ],
 "metadata": {
  "kernelspec": {
   "display_name": "Python 3",
   "language": "python",
   "name": "python3"
  },
  "language_info": {
   "codemirror_mode": {
    "name": "ipython",
    "version": 3
   },
   "file_extension": ".py",
   "mimetype": "text/x-python",
   "name": "python",
   "nbconvert_exporter": "python",
   "pygments_lexer": "ipython3",
   "version": "3.7.1"
  }
 },
 "nbformat": 4,
 "nbformat_minor": 2
}
